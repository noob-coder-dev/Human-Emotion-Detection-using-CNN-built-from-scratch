{
  "nbformat": 4,
  "nbformat_minor": 0,
  "metadata": {
    "colab": {
      "name": "Emotion Detection.ipynb",
      "provenance": []
    },
    "kernelspec": {
      "name": "python3",
      "display_name": "Python 3"
    },
    "language_info": {
      "name": "python"
    },
    "accelerator": "GPU"
  },
  "cells": [
    {
      "cell_type": "code",
      "metadata": {
        "id": "sojCTiJmBUWY"
      },
      "source": [
        "#importing libraries\n",
        "\n",
        "import pandas as pd # data preprocessing, CSV File i/o\n",
        "import numpy as np # implement linear algebra\n",
        "\n",
        "import tensorflow as tf\n",
        "from tensorflow.keras.layers import Conv2D, MaxPool2D, Dense, Flatten, Dropout\n",
        "from tensorflow.keras.models import Model\n",
        "from tensorflow.keras.preprocessing import image\n",
        "from tensorflow.keras.preprocessing.image import ImageDataGenerator, load_img\n",
        "from tensorflow.keras.models import Sequential"
      ],
      "execution_count": 8,
      "outputs": []
    },
    {
      "cell_type": "code",
      "metadata": {
        "colab": {
          "base_uri": "https://localhost:8080/"
        },
        "id": "_06hELdIHLGF",
        "outputId": "32c417fb-f9c2-401e-b630-ec94d96e265e"
      },
      "source": [
        "import os\n",
        "try:\n",
        "    device_name = os.environ['COLAB_TPU_ADDR']\n",
        "    TPU_ADDRESS = 'grpc://' + device_name\n",
        "    print('Found TPU at: {}'.format(TPU_ADDRESS))\n",
        "except KeyError:\n",
        "    print('TPU not found')"
      ],
      "execution_count": 9,
      "outputs": [
        {
          "output_type": "stream",
          "text": [
            "TPU not found\n"
          ],
          "name": "stdout"
        }
      ]
    },
    {
      "cell_type": "code",
      "metadata": {
        "id": "wOPlSXyNC7Bq"
      },
      "source": [
        "train_data_gen = ImageDataGenerator(rescale=1./255,shear_range=0.2,\n",
        "                                    zoom_range=0.2, horizontal_flip=True)\n",
        "\n",
        "test_data_gen = ImageDataGenerator(rescale=1./255)"
      ],
      "execution_count": 10,
      "outputs": []
    },
    {
      "cell_type": "code",
      "metadata": {
        "colab": {
          "base_uri": "https://localhost:8080/"
        },
        "id": "GL_A9wnONi_t",
        "outputId": "7f5f21b8-4d99-44a7-833c-a73604227fe2"
      },
      "source": [
        "training_set = train_data_gen.flow_from_directory('/content/drive/MyDrive/archive/test',\n",
        "                                                  target_size=(48,48),\n",
        "                                                  batch_size=32,\n",
        "                                                  color_mode='grayscale',\n",
        "                                                  class_mode='categorical')"
      ],
      "execution_count": 11,
      "outputs": [
        {
          "output_type": "stream",
          "text": [
            "Found 7188 images belonging to 7 classes.\n"
          ],
          "name": "stdout"
        }
      ]
    },
    {
      "cell_type": "code",
      "metadata": {
        "colab": {
          "base_uri": "https://localhost:8080/"
        },
        "id": "KUDHO9wlh4zu",
        "outputId": "0fdb6dc4-7552-4050-9ab9-ec8d7d22b4d5"
      },
      "source": [
        "test_set = test_data_gen.flow_from_directory(('/content/drive/MyDrive/archive/train'),\n",
        "                                            target_size=(48,48),\n",
        "                                            batch_size=32,\n",
        "                                            color_mode='grayscale',\n",
        "                                            class_mode='categorical')\n"
      ],
      "execution_count": 12,
      "outputs": [
        {
          "output_type": "stream",
          "text": [
            "Found 3349 images belonging to 7 classes.\n"
          ],
          "name": "stdout"
        }
      ]
    },
    {
      "cell_type": "code",
      "metadata": {
        "id": "wNeQTflGiVwC"
      },
      "source": [
        "def build_model():\n",
        "    model = Sequential()\n",
        "    model.add(Conv2D(filters=64,kernel_size=3,padding='same',activation='relu',input_shape=(48,48,1)))\n",
        "    \n",
        "    model.add(MaxPool2D(pool_size=2,strides=2))\n",
        "    \n",
        "    model.add(Conv2D(filters=64,kernel_size=3,padding='same',activation='relu'))\n",
        "    model.add(MaxPool2D(pool_size=2,strides=2))\n",
        "    \n",
        "    model.add(Conv2D(filters=64,kernel_size=3,padding='same',activation='relu'))\n",
        "    model.add(MaxPool2D(pool_size=2,strides=2))\n",
        "    \n",
        "    model.add(Conv2D(filters=64,kernel_size=3,padding='same',activation='relu'))\n",
        "    model.add(MaxPool2D(pool_size=2,strides=2))\n",
        "    \n",
        "    model.add(Conv2D(filters=64,kernel_size=3,padding='same',activation='relu',input_shape=(48,48,1)))\n",
        "    model.add(MaxPool2D(pool_size=2,strides=2))\n",
        "    \n",
        "    model.add(Flatten())\n",
        "    \n",
        "    model.add(Dense(units=128,activation='relu',kernel_initializer='he_normal'))\n",
        "    model.add(Dropout(0.5))\n",
        "    model.add(Dense(units= 64,activation='relu',kernel_initializer='he_normal'))\n",
        "    model.add(Dropout(0.25))\n",
        "    model.add(Dense(units= 32,activation='relu',kernel_initializer='he_normal'))\n",
        "    model.add(Dense(units=7,activation='softmax'))\n",
        "\n",
        "    model.compile(optimizer='adam',loss='categorical_crossentropy',metrics=['accuracy'])\n",
        "\n",
        "    return model"
      ],
      "execution_count": 13,
      "outputs": []
    },
    {
      "cell_type": "code",
      "metadata": {
        "colab": {
          "base_uri": "https://localhost:8080/"
        },
        "id": "0qPiOTw995yt",
        "outputId": "c9b1a367-84d6-48c7-c589-784a47a7becd"
      },
      "source": [
        "model = build_model()\n",
        "print(model.summary())"
      ],
      "execution_count": 17,
      "outputs": [
        {
          "output_type": "stream",
          "text": [
            "Model: \"sequential_3\"\n",
            "_________________________________________________________________\n",
            "Layer (type)                 Output Shape              Param #   \n",
            "=================================================================\n",
            "conv2d_15 (Conv2D)           (None, 48, 48, 64)        640       \n",
            "_________________________________________________________________\n",
            "max_pooling2d_15 (MaxPooling (None, 24, 24, 64)        0         \n",
            "_________________________________________________________________\n",
            "conv2d_16 (Conv2D)           (None, 24, 24, 64)        36928     \n",
            "_________________________________________________________________\n",
            "max_pooling2d_16 (MaxPooling (None, 12, 12, 64)        0         \n",
            "_________________________________________________________________\n",
            "conv2d_17 (Conv2D)           (None, 12, 12, 64)        36928     \n",
            "_________________________________________________________________\n",
            "max_pooling2d_17 (MaxPooling (None, 6, 6, 64)          0         \n",
            "_________________________________________________________________\n",
            "conv2d_18 (Conv2D)           (None, 6, 6, 64)          36928     \n",
            "_________________________________________________________________\n",
            "max_pooling2d_18 (MaxPooling (None, 3, 3, 64)          0         \n",
            "_________________________________________________________________\n",
            "conv2d_19 (Conv2D)           (None, 3, 3, 64)          36928     \n",
            "_________________________________________________________________\n",
            "max_pooling2d_19 (MaxPooling (None, 1, 1, 64)          0         \n",
            "_________________________________________________________________\n",
            "flatten_3 (Flatten)          (None, 64)                0         \n",
            "_________________________________________________________________\n",
            "dense_12 (Dense)             (None, 128)               8320      \n",
            "_________________________________________________________________\n",
            "dropout_6 (Dropout)          (None, 128)               0         \n",
            "_________________________________________________________________\n",
            "dense_13 (Dense)             (None, 64)                8256      \n",
            "_________________________________________________________________\n",
            "dropout_7 (Dropout)          (None, 64)                0         \n",
            "_________________________________________________________________\n",
            "dense_14 (Dense)             (None, 32)                2080      \n",
            "_________________________________________________________________\n",
            "dense_15 (Dense)             (None, 7)                 231       \n",
            "=================================================================\n",
            "Total params: 167,239\n",
            "Trainable params: 167,239\n",
            "Non-trainable params: 0\n",
            "_________________________________________________________________\n",
            "None\n"
          ],
          "name": "stdout"
        }
      ]
    },
    {
      "cell_type": "code",
      "metadata": {
        "colab": {
          "base_uri": "https://localhost:8080/"
        },
        "id": "qa6fgsjg-DiU",
        "outputId": "6fe902af-d291-43ff-c983-6b2bf34cc558"
      },
      "source": [
        "hist = model.fit(x=training_set,validation_data=test_set,epochs=60,batch_size=64)"
      ],
      "execution_count": 18,
      "outputs": [
        {
          "output_type": "stream",
          "text": [
            "Epoch 1/60\n",
            "225/225 [==============================] - 2491s 11s/step - loss: 1.8450 - accuracy: 0.2340 - val_loss: 2.4731 - val_accuracy: 0.0000e+00\n",
            "Epoch 2/60\n",
            "225/225 [==============================] - 66s 294ms/step - loss: 1.8182 - accuracy: 0.2460 - val_loss: 2.3215 - val_accuracy: 0.0000e+00\n",
            "Epoch 3/60\n",
            "225/225 [==============================] - 66s 293ms/step - loss: 1.8120 - accuracy: 0.2455 - val_loss: 2.2297 - val_accuracy: 0.0000e+00\n",
            "Epoch 4/60\n",
            "225/225 [==============================] - 71s 316ms/step - loss: 1.8058 - accuracy: 0.2453 - val_loss: 2.3752 - val_accuracy: 0.0000e+00\n",
            "Epoch 5/60\n",
            "225/225 [==============================] - 78s 345ms/step - loss: 1.7958 - accuracy: 0.2472 - val_loss: 2.1768 - val_accuracy: 0.0000e+00\n",
            "Epoch 6/60\n",
            "225/225 [==============================] - 85s 377ms/step - loss: 1.7880 - accuracy: 0.2490 - val_loss: 2.1196 - val_accuracy: 0.3491\n",
            "Epoch 7/60\n",
            "225/225 [==============================] - 82s 366ms/step - loss: 1.7832 - accuracy: 0.2568 - val_loss: 2.1030 - val_accuracy: 0.2917\n",
            "Epoch 8/60\n",
            "225/225 [==============================] - 81s 360ms/step - loss: 1.7442 - accuracy: 0.2795 - val_loss: 2.0280 - val_accuracy: 0.4121\n",
            "Epoch 9/60\n",
            "225/225 [==============================] - 82s 366ms/step - loss: 1.6985 - accuracy: 0.3143 - val_loss: 1.6700 - val_accuracy: 0.5793\n",
            "Epoch 10/60\n",
            "225/225 [==============================] - 82s 365ms/step - loss: 1.6705 - accuracy: 0.3254 - val_loss: 1.7075 - val_accuracy: 0.5551\n",
            "Epoch 11/60\n",
            "225/225 [==============================] - 82s 362ms/step - loss: 1.6419 - accuracy: 0.3439 - val_loss: 1.7337 - val_accuracy: 0.5437\n",
            "Epoch 12/60\n",
            "225/225 [==============================] - 76s 337ms/step - loss: 1.6152 - accuracy: 0.3648 - val_loss: 1.5060 - val_accuracy: 0.6471\n",
            "Epoch 13/60\n",
            "225/225 [==============================] - 71s 313ms/step - loss: 1.5766 - accuracy: 0.3801 - val_loss: 1.6861 - val_accuracy: 0.5575\n",
            "Epoch 14/60\n",
            "225/225 [==============================] - 66s 292ms/step - loss: 1.5563 - accuracy: 0.3975 - val_loss: 1.6547 - val_accuracy: 0.5581\n",
            "Epoch 15/60\n",
            "225/225 [==============================] - 65s 289ms/step - loss: 1.5378 - accuracy: 0.4026 - val_loss: 1.5182 - val_accuracy: 0.6044\n",
            "Epoch 16/60\n",
            "225/225 [==============================] - 65s 290ms/step - loss: 1.5216 - accuracy: 0.4047 - val_loss: 1.4517 - val_accuracy: 0.5993\n",
            "Epoch 17/60\n",
            "225/225 [==============================] - 65s 290ms/step - loss: 1.5019 - accuracy: 0.4158 - val_loss: 1.5985 - val_accuracy: 0.5811\n",
            "Epoch 18/60\n",
            "225/225 [==============================] - 65s 289ms/step - loss: 1.4915 - accuracy: 0.4258 - val_loss: 1.5649 - val_accuracy: 0.5652\n",
            "Epoch 19/60\n",
            "225/225 [==============================] - 65s 291ms/step - loss: 1.4746 - accuracy: 0.4247 - val_loss: 1.5872 - val_accuracy: 0.5554\n",
            "Epoch 20/60\n",
            "225/225 [==============================] - 65s 289ms/step - loss: 1.4679 - accuracy: 0.4321 - val_loss: 1.7559 - val_accuracy: 0.5112\n",
            "Epoch 21/60\n",
            "225/225 [==============================] - 65s 290ms/step - loss: 1.4516 - accuracy: 0.4354 - val_loss: 1.7446 - val_accuracy: 0.5351\n",
            "Epoch 22/60\n",
            "225/225 [==============================] - 65s 291ms/step - loss: 1.4447 - accuracy: 0.4424 - val_loss: 1.4285 - val_accuracy: 0.6318\n",
            "Epoch 23/60\n",
            "225/225 [==============================] - 66s 292ms/step - loss: 1.4362 - accuracy: 0.4446 - val_loss: 1.8539 - val_accuracy: 0.4733\n",
            "Epoch 24/60\n",
            "225/225 [==============================] - 65s 290ms/step - loss: 1.4139 - accuracy: 0.4528 - val_loss: 1.5371 - val_accuracy: 0.5655\n",
            "Epoch 25/60\n",
            "225/225 [==============================] - 66s 292ms/step - loss: 1.4141 - accuracy: 0.4528 - val_loss: 1.4053 - val_accuracy: 0.5966\n",
            "Epoch 26/60\n",
            "225/225 [==============================] - 66s 292ms/step - loss: 1.4036 - accuracy: 0.4613 - val_loss: 1.7346 - val_accuracy: 0.5178\n",
            "Epoch 27/60\n",
            "225/225 [==============================] - 66s 291ms/step - loss: 1.3954 - accuracy: 0.4636 - val_loss: 1.5624 - val_accuracy: 0.5649\n",
            "Epoch 28/60\n",
            "225/225 [==============================] - 66s 291ms/step - loss: 1.3738 - accuracy: 0.4649 - val_loss: 1.4019 - val_accuracy: 0.6279\n",
            "Epoch 29/60\n",
            "225/225 [==============================] - 66s 293ms/step - loss: 1.3678 - accuracy: 0.4765 - val_loss: 1.5933 - val_accuracy: 0.5611\n",
            "Epoch 30/60\n",
            "225/225 [==============================] - 66s 292ms/step - loss: 1.3567 - accuracy: 0.4797 - val_loss: 1.5790 - val_accuracy: 0.5434\n",
            "Epoch 31/60\n",
            "225/225 [==============================] - 66s 292ms/step - loss: 1.3462 - accuracy: 0.4766 - val_loss: 1.3623 - val_accuracy: 0.6411\n",
            "Epoch 32/60\n",
            "225/225 [==============================] - 66s 292ms/step - loss: 1.3471 - accuracy: 0.4795 - val_loss: 1.5667 - val_accuracy: 0.5793\n",
            "Epoch 33/60\n",
            "225/225 [==============================] - 66s 292ms/step - loss: 1.3409 - accuracy: 0.4846 - val_loss: 1.6152 - val_accuracy: 0.5700\n",
            "Epoch 34/60\n",
            "225/225 [==============================] - 66s 292ms/step - loss: 1.3181 - accuracy: 0.4919 - val_loss: 1.4522 - val_accuracy: 0.5757\n",
            "Epoch 35/60\n",
            "225/225 [==============================] - 66s 293ms/step - loss: 1.3272 - accuracy: 0.4875 - val_loss: 1.7891 - val_accuracy: 0.4855\n",
            "Epoch 36/60\n",
            "225/225 [==============================] - 66s 293ms/step - loss: 1.3129 - accuracy: 0.4946 - val_loss: 1.4731 - val_accuracy: 0.5772\n",
            "Epoch 37/60\n",
            "225/225 [==============================] - 66s 293ms/step - loss: 1.3207 - accuracy: 0.4949 - val_loss: 1.3823 - val_accuracy: 0.6130\n",
            "Epoch 38/60\n",
            "225/225 [==============================] - 66s 293ms/step - loss: 1.3099 - accuracy: 0.5032 - val_loss: 1.5447 - val_accuracy: 0.5691\n",
            "Epoch 39/60\n",
            "225/225 [==============================] - 66s 291ms/step - loss: 1.2932 - accuracy: 0.5064 - val_loss: 1.4380 - val_accuracy: 0.5778\n",
            "Epoch 40/60\n",
            "225/225 [==============================] - 66s 293ms/step - loss: 1.2949 - accuracy: 0.5019 - val_loss: 1.2908 - val_accuracy: 0.6608\n",
            "Epoch 41/60\n",
            "225/225 [==============================] - 66s 292ms/step - loss: 1.2820 - accuracy: 0.5071 - val_loss: 1.6283 - val_accuracy: 0.5524\n",
            "Epoch 42/60\n",
            "225/225 [==============================] - 66s 292ms/step - loss: 1.2720 - accuracy: 0.5135 - val_loss: 1.3902 - val_accuracy: 0.6196\n",
            "Epoch 43/60\n",
            "225/225 [==============================] - 66s 292ms/step - loss: 1.2775 - accuracy: 0.5068 - val_loss: 1.6602 - val_accuracy: 0.5225\n",
            "Epoch 44/60\n",
            "225/225 [==============================] - 66s 292ms/step - loss: 1.2708 - accuracy: 0.5088 - val_loss: 1.5432 - val_accuracy: 0.5611\n",
            "Epoch 45/60\n",
            "225/225 [==============================] - 66s 292ms/step - loss: 1.2570 - accuracy: 0.5195 - val_loss: 1.4591 - val_accuracy: 0.5909\n",
            "Epoch 46/60\n",
            "225/225 [==============================] - 66s 293ms/step - loss: 1.2501 - accuracy: 0.5245 - val_loss: 1.4420 - val_accuracy: 0.5855\n",
            "Epoch 47/60\n",
            "225/225 [==============================] - 66s 293ms/step - loss: 1.2541 - accuracy: 0.5159 - val_loss: 1.5402 - val_accuracy: 0.5578\n",
            "Epoch 48/60\n",
            "225/225 [==============================] - 66s 293ms/step - loss: 1.2362 - accuracy: 0.5232 - val_loss: 1.5366 - val_accuracy: 0.5718\n",
            "Epoch 49/60\n",
            "225/225 [==============================] - 66s 294ms/step - loss: 1.2417 - accuracy: 0.5249 - val_loss: 1.3166 - val_accuracy: 0.6387\n",
            "Epoch 50/60\n",
            "225/225 [==============================] - 66s 294ms/step - loss: 1.2507 - accuracy: 0.5163 - val_loss: 1.3864 - val_accuracy: 0.6079\n",
            "Epoch 51/60\n",
            "225/225 [==============================] - 66s 294ms/step - loss: 1.2207 - accuracy: 0.5330 - val_loss: 1.4547 - val_accuracy: 0.5984\n",
            "Epoch 52/60\n",
            "225/225 [==============================] - 66s 292ms/step - loss: 1.2408 - accuracy: 0.5221 - val_loss: 1.3450 - val_accuracy: 0.6324\n",
            "Epoch 53/60\n",
            "225/225 [==============================] - 66s 294ms/step - loss: 1.2201 - accuracy: 0.5243 - val_loss: 1.3621 - val_accuracy: 0.6324\n",
            "Epoch 54/60\n",
            "225/225 [==============================] - 66s 293ms/step - loss: 1.2124 - accuracy: 0.5412 - val_loss: 1.3572 - val_accuracy: 0.6274\n",
            "Epoch 55/60\n",
            "225/225 [==============================] - 66s 293ms/step - loss: 1.2205 - accuracy: 0.5294 - val_loss: 1.3736 - val_accuracy: 0.6053\n",
            "Epoch 56/60\n",
            "225/225 [==============================] - 66s 294ms/step - loss: 1.2097 - accuracy: 0.5284 - val_loss: 1.5746 - val_accuracy: 0.5503\n",
            "Epoch 57/60\n",
            "225/225 [==============================] - 66s 295ms/step - loss: 1.2049 - accuracy: 0.5341 - val_loss: 1.3245 - val_accuracy: 0.6288\n",
            "Epoch 58/60\n",
            "225/225 [==============================] - 66s 293ms/step - loss: 1.2139 - accuracy: 0.5424 - val_loss: 1.3996 - val_accuracy: 0.6208\n",
            "Epoch 59/60\n",
            "225/225 [==============================] - 66s 291ms/step - loss: 1.2003 - accuracy: 0.5307 - val_loss: 1.5167 - val_accuracy: 0.5802\n",
            "Epoch 60/60\n",
            "225/225 [==============================] - 66s 291ms/step - loss: 1.1972 - accuracy: 0.5422 - val_loss: 1.6196 - val_accuracy: 0.5243\n"
          ],
          "name": "stdout"
        }
      ]
    },
    {
      "cell_type": "code",
      "metadata": {
        "id": "f5bcz7j9-3sx"
      },
      "source": [
        " model.save('model_2.h5')\n"
      ],
      "execution_count": 19,
      "outputs": []
    },
    {
      "cell_type": "code",
      "metadata": {
        "id": "tE7smh7AAeb6",
        "colab": {
          "base_uri": "https://localhost:8080/",
          "height": 295
        },
        "outputId": "51fa3bc4-e9c5-4af2-8914-4626be65c9c8"
      },
      "source": [
        "import matplotlib.pyplot as plt\n",
        "plt.plot(hist.history['accuracy'])\n",
        "plt.plot(hist.history['val_accuracy'])\n",
        "plt.plot(hist.history['loss'])\n",
        "plt.plot(hist.history['val_loss'])\n",
        "\n",
        "plt.title(\"Model Accuracy\")\n",
        "plt.ylabel('Accuracy')\n",
        "plt.xlabel('Epochs')\n",
        "plt.legend(['Training Accuracy', 'Validation Accuarcy', 'Training Loss', 'Validation Loss'])\n",
        "\n",
        "plt.show()"
      ],
      "execution_count": 20,
      "outputs": [
        {
          "output_type": "display_data",
          "data": {
            "image/png": "[encoded data removed]",
            "text/plain": [
              "<Figure size 432x288 with 1 Axes>"
            ]
          },
          "metadata": {
            "tags": [],
            "needs_background": "light"
          }
        }
      ]
    },
    {
      "cell_type": "code",
      "metadata": {
        "id": "Gw5dYjj3I1wc"
      },
      "source": [
        "Emotion_Dict = {0:'Angry',1:'Disgust',2:'Fear',3:'Happy',4:'Neutral',5:'Sad',6:'Surprise'}"
      ],
      "execution_count": 21,
      "outputs": []
    },
    {
      "cell_type": "code",
      "metadata": {
        "id": "Sffr0gUsI_9u",
        "colab": {
          "base_uri": "https://localhost:8080/",
          "height": 338
        },
        "outputId": "6399945c-d021-435f-ff8b-8214b9d26175"
      },
      "source": [
        "from keras.preprocessing import image\n",
        "img = image.load_img(\"/content/drive/MyDrive/archive/test/angry/im0.png\",target_size=(48,48),color_mode=\"grayscale\")\n",
        "img = np.array(img)\n",
        "plt.imshow(img)\n",
        "print(img.shape)\n",
        "\n",
        "img = np.expand_dims(img, axis=0)\n",
        "from keras.models import load_model\n",
        "print(img.shape)\n",
        "img = img.reshape(1,48,48,1)\n",
        "saved_model = load_model(\"./model_2.h5\")\n",
        "result = saved_model.predict(img)\n",
        "result=list(result[0])\n",
        "    \n",
        "img_index = result.index(max(result))\n",
        "print(img_index)\n",
        "print(Emotion_Dict[img_index])\n",
        "plt.show()"
      ],
      "execution_count": 26,
      "outputs": [
        {
          "output_type": "stream",
          "text": [
            "(48, 48)\n",
            "(1, 48, 48)\n",
            "0\n",
            "Angry\n"
          ],
          "name": "stdout"
        },
        {
          "output_type": "display_data",
          "data": {
            "image/png": "[encoded data removed]",
            "text/plain": [
              "<Figure size 432x288 with 1 Axes>"
            ]
          },
          "metadata": {
            "tags": [],
            "needs_background": "light"
          }
        }
      ]
    },
    {
      "cell_type": "markdown",
      "metadata": {
        "id": "ySQaf0SuoKOJ"
      },
      "source": [
        "* Hence, it's working properly"
      ]
    },
    {
      "cell_type": "code",
      "metadata": {
        "colab": {
          "base_uri": "https://localhost:8080/",
          "height": 376
        },
        "id": "ZAIRTkyvoPIF",
        "outputId": "d516582e-3771-4235-ca9b-ab84fb123fdf"
      },
      "source": [
        "from keras.preprocessing import image\n",
        "img = image.load_img(\"/content/drive/MyDrive/archive/test/disgusted/im0.png\",target_size=(48,48),color_mode=\"grayscale\")\n",
        "img = np.array(img)\n",
        "plt.imshow(img)\n",
        "print(img.shape)\n",
        "\n",
        "img = np.expand_dims(img, axis=0)\n",
        "from keras.models import load_model\n",
        "print(img.shape)\n",
        "img = img.reshape(1,48,48,1)\n",
        "saved_model = load_model(\"./model_2.h5\")\n",
        "result = saved_model.predict(img)\n",
        "result=list(result[0])\n",
        "    \n",
        "img_index = result.index(max(result))\n",
        "print(img_index)\n",
        "print(Emotion_Dict[img_index])\n",
        "plt.show()"
      ],
      "execution_count": 27,
      "outputs": [
        {
          "output_type": "stream",
          "text": [
            "(48, 48)\n",
            "(1, 48, 48)\n",
            "WARNING:tensorflow:5 out of the last 5 calls to <function Model.make_predict_function.<locals>.predict_function at 0x7f83e3be6b00> triggered tf.function retracing. Tracing is expensive and the excessive number of tracings could be due to (1) creating @tf.function repeatedly in a loop, (2) passing tensors with different shapes, (3) passing Python objects instead of tensors. For (1), please define your @tf.function outside of the loop. For (2), @tf.function has experimental_relax_shapes=True option that relaxes argument shapes that can avoid unnecessary retracing. For (3), please refer to https://www.tensorflow.org/guide/function#controlling_retracing and https://www.tensorflow.org/api_docs/python/tf/function for  more details.\n",
            "6\n",
            "Surprise\n"
          ],
          "name": "stdout"
        },
        {
          "output_type": "display_data",
          "data": {
            "image/png": "[encoded data removed]",
            "text/plain": [
              "<Figure size 432x288 with 1 Axes>"
            ]
          },
          "metadata": {
            "tags": [],
            "needs_background": "light"
          }
        }
      ]
    },
    {
      "cell_type": "markdown",
      "metadata": {
        "id": "a4d-gZ9JoyZy"
      },
      "source": [
        "* Here, the model predicted wrong! Personally, I'm also confused :')"
      ]
    },
    {
      "cell_type": "code",
      "metadata": {
        "colab": {
          "base_uri": "https://localhost:8080/",
          "height": 376
        },
        "id": "-jA7TCa2oeUS",
        "outputId": "60bf0fcc-448b-480b-e1f5-780e37b7a87e"
      },
      "source": [
        "from keras.preprocessing import image\n",
        "img = image.load_img(\"/content/drive/MyDrive/archive/test/fearful/im0.png\",target_size=(48,48),color_mode=\"grayscale\")\n",
        "img = np.array(img)\n",
        "plt.imshow(img)\n",
        "print(img.shape)\n",
        "\n",
        "img = np.expand_dims(img, axis=0)\n",
        "from keras.models import load_model\n",
        "print(img.shape)\n",
        "img = img.reshape(1,48,48,1)\n",
        "saved_model = load_model(\"./model_2.h5\")\n",
        "result = saved_model.predict(img)\n",
        "result=list(result[0])\n",
        "    \n",
        "img_index = result.index(max(result))\n",
        "print(img_index)\n",
        "print(Emotion_Dict[img_index])\n",
        "plt.show()"
      ],
      "execution_count": 28,
      "outputs": [
        {
          "output_type": "stream",
          "text": [
            "(48, 48)\n",
            "(1, 48, 48)\n",
            "WARNING:tensorflow:6 out of the last 6 calls to <function Model.make_predict_function.<locals>.predict_function at 0x7f83e3c245f0> triggered tf.function retracing. Tracing is expensive and the excessive number of tracings could be due to (1) creating @tf.function repeatedly in a loop, (2) passing tensors with different shapes, (3) passing Python objects instead of tensors. For (1), please define your @tf.function outside of the loop. For (2), @tf.function has experimental_relax_shapes=True option that relaxes argument shapes that can avoid unnecessary retracing. For (3), please refer to https://www.tensorflow.org/guide/function#controlling_retracing and https://www.tensorflow.org/api_docs/python/tf/function for  more details.\n",
            "0\n",
            "Angry\n"
          ],
          "name": "stdout"
        },
        {
          "output_type": "display_data",
          "data": {
            "image/png": "[encoded data removed]",
            "text/plain": [
              "<Figure size 432x288 with 1 Axes>"
            ]
          },
          "metadata": {
            "tags": [],
            "needs_background": "light"
          }
        }
      ]
    },
    {
      "cell_type": "markdown",
      "metadata": {
        "id": "5Bs-iDyB2xJL"
      },
      "source": [
        "* Hence, it has predicted wrong again!"
      ]
    },
    {
      "cell_type": "code",
      "metadata": {
        "colab": {
          "base_uri": "https://localhost:8080/",
          "height": 338
        },
        "id": "_LcLm36EtLnr",
        "outputId": "7c8f43aa-fd5e-4655-dc6d-b490bbc8b8af"
      },
      "source": [
        "from keras.preprocessing import image\n",
        "img = image.load_img(\"/content/drive/MyDrive/archive/test/happy/im0.png\",target_size=(48,48),color_mode=\"grayscale\")\n",
        "img = np.array(img)\n",
        "plt.imshow(img)\n",
        "print(img.shape)\n",
        "\n",
        "img = np.expand_dims(img, axis=0)\n",
        "from keras.models import load_model\n",
        "print(img.shape)\n",
        "img = img.reshape(1,48,48,1)\n",
        "saved_model = load_model(\"./model_2.h5\")\n",
        "result = saved_model.predict(img)\n",
        "result=list(result[0])\n",
        "    \n",
        "img_index = result.index(max(result))\n",
        "print(img_index)\n",
        "print(Emotion_Dict[img_index])\n",
        "plt.show()"
      ],
      "execution_count": 29,
      "outputs": [
        {
          "output_type": "stream",
          "text": [
            "(48, 48)\n",
            "(1, 48, 48)\n",
            "3\n",
            "Happy\n"
          ],
          "name": "stdout"
        },
        {
          "output_type": "display_data",
          "data": {
            "image/png": "[encoded data removed]",
            "text/plain": [
              "<Figure size 432x288 with 1 Axes>"
            ]
          },
          "metadata": {
            "tags": [],
            "needs_background": "light"
          }
        }
      ]
    },
    {
      "cell_type": "markdown",
      "metadata": {
        "id": "OtgoFAPq3J9K"
      },
      "source": [
        "* Predicted correct! :)"
      ]
    },
    {
      "cell_type": "code",
      "metadata": {
        "colab": {
          "base_uri": "https://localhost:8080/",
          "height": 338
        },
        "id": "ZT2xulfI3HRX",
        "outputId": "24261e69-b368-482b-c12b-c15d53592340"
      },
      "source": [
        "from keras.preprocessing import image\n",
        "img = image.load_img(\"/content/drive/MyDrive/archive/test/neutral/im0.png\",target_size=(48,48),color_mode=\"grayscale\")\n",
        "img = np.array(img)\n",
        "plt.imshow(img)\n",
        "print(img.shape)\n",
        "\n",
        "img = np.expand_dims(img, axis=0)\n",
        "from keras.models import load_model\n",
        "print(img.shape)\n",
        "img = img.reshape(1,48,48,1)\n",
        "saved_model = load_model(\"./model_2.h5\")\n",
        "result = saved_model.predict(img)\n",
        "result=list(result[0])\n",
        "    \n",
        "img_index = result.index(max(result))\n",
        "print(img_index)\n",
        "print(Emotion_Dict[img_index])\n",
        "plt.show()"
      ],
      "execution_count": 30,
      "outputs": [
        {
          "output_type": "stream",
          "text": [
            "(48, 48)\n",
            "(1, 48, 48)\n",
            "0\n",
            "Angry\n"
          ],
          "name": "stdout"
        },
        {
          "output_type": "display_data",
          "data": {
            "image/png": "[encoded data removed]",
            "text/plain": [
              "<Figure size 432x288 with 1 Axes>"
            ]
          },
          "metadata": {
            "tags": [],
            "needs_background": "light"
          }
        }
      ]
    },
    {
      "cell_type": "markdown",
      "metadata": {
        "id": "MxYJi5WL4Mfr"
      },
      "source": [
        "* It's predicted wrong!"
      ]
    },
    {
      "cell_type": "code",
      "metadata": {
        "colab": {
          "base_uri": "https://localhost:8080/",
          "height": 338
        },
        "id": "yzIhv9eb3ZHf",
        "outputId": "fcee129a-1e29-45a6-94ad-9d68a686eb58"
      },
      "source": [
        "from keras.preprocessing import image\n",
        "img = image.load_img(\"/content/drive/MyDrive/archive/test/sad/im0.png\",target_size=(48,48),color_mode=\"grayscale\")\n",
        "img = np.array(img)\n",
        "plt.imshow(img)\n",
        "print(img.shape)\n",
        "\n",
        "img = np.expand_dims(img, axis=0)\n",
        "from keras.models import load_model\n",
        "print(img.shape)\n",
        "img = img.reshape(1,48,48,1)\n",
        "saved_model = load_model(\"./model_2.h5\")\n",
        "result = saved_model.predict(img)\n",
        "result=list(result[0])\n",
        "    \n",
        "img_index = result.index(max(result))\n",
        "print(img_index)\n",
        "print(Emotion_Dict[img_index])\n",
        "plt.show()"
      ],
      "execution_count": 31,
      "outputs": [
        {
          "output_type": "stream",
          "text": [
            "(48, 48)\n",
            "(1, 48, 48)\n",
            "0\n",
            "Angry\n"
          ],
          "name": "stdout"
        },
        {
          "output_type": "display_data",
          "data": {
            "image/png": "[encoded data removed]",
            "text/plain": [
              "<Figure size 432x288 with 1 Axes>"
            ]
          },
          "metadata": {
            "tags": [],
            "needs_background": "light"
          }
        }
      ]
    },
    {
      "cell_type": "markdown",
      "metadata": {
        "id": "6RjXD57T387E"
      },
      "source": [
        "* Again a wrong prediction!"
      ]
    },
    {
      "cell_type": "code",
      "metadata": {
        "colab": {
          "base_uri": "https://localhost:8080/",
          "height": 338
        },
        "id": "7fH_3eyU3lEc",
        "outputId": "85b27531-d88d-403c-d503-2c917b5001c8"
      },
      "source": [
        "from keras.preprocessing import image\n",
        "img = image.load_img(\"/content/drive/MyDrive/archive/test/surprised/im0.png\",target_size=(48,48),color_mode=\"grayscale\")\n",
        "img = np.array(img)\n",
        "plt.imshow(img)\n",
        "print(img.shape)\n",
        "\n",
        "img = np.expand_dims(img, axis=0)\n",
        "from keras.models import load_model\n",
        "print(img.shape)\n",
        "img = img.reshape(1,48,48,1)\n",
        "saved_model = load_model(\"./model_2.h5\")\n",
        "result = saved_model.predict(img)\n",
        "result=list(result[0])\n",
        "    \n",
        "img_index = result.index(max(result))\n",
        "print(img_index)\n",
        "print(Emotion_Dict[img_index])\n",
        "plt.show()"
      ],
      "execution_count": 32,
      "outputs": [
        {
          "output_type": "stream",
          "text": [
            "(48, 48)\n",
            "(1, 48, 48)\n",
            "6\n",
            "Surprise\n"
          ],
          "name": "stdout"
        },
        {
          "output_type": "display_data",
          "data": {
            "image/png": "[encoded data removed]",
            "text/plain": [
              "<Figure size 432x288 with 1 Axes>"
            ]
          },
          "metadata": {
            "tags": [],
            "needs_background": "light"
          }
        }
      ]
    },
    {
      "cell_type": "markdown",
      "metadata": {
        "id": "_UNXzWfO31nK"
      },
      "source": [
        "* Predicted right!"
      ]
    },
    {
      "cell_type": "code",
      "metadata": {
        "id": "iUpU4oOk3zGE"
      },
      "source": [
        ""
      ],
      "execution_count": null,
      "outputs": []
    }
  ]
}